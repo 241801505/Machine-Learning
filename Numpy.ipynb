{
  "cells": [
    {
      "cell_type": "markdown",
      "metadata": {
        "id": "view-in-github",
        "colab_type": "text"
      },
      "source": [
        "<a href=\"https://colab.research.google.com/github/241801505/Machine-Learning/blob/main/Numpy.ipynb\" target=\"_parent\"><img src=\"https://colab.research.google.com/assets/colab-badge.svg\" alt=\"Open In Colab\"/></a>"
      ]
    },
    {
      "cell_type": "code",
      "execution_count": null,
      "id": "474bcc5c",
      "metadata": {
        "colab": {
          "base_uri": "https://localhost:8080/"
        },
        "id": "474bcc5c",
        "outputId": "bbb4b041-3c11-44af-99c4-df0c6735db66"
      },
      "outputs": [
        {
          "output_type": "stream",
          "name": "stdout",
          "text": [
            "[1 2 3 4 5]\n"
          ]
        }
      ],
      "source": [
        "import numpy as np\n",
        "arr=np.array([1,2,3,4,5])\n",
        "print (arr)"
      ]
    },
    {
      "cell_type": "code",
      "source": [
        "import sys\n",
        "S= range(1000)\n",
        "print(\"size of each element of list in bytes:\",sys.getsizeof(S))\n",
        "print(\"size of the whole list in bytes:\",sys.getsizeof(S)*len(S))\n",
        "D=np.arange(1000)\n",
        "print(\"size of each element of the numpy array in bytes:\",D.itemsize)\n",
        "print(\"size of the whole numpy array in bytes:\",D.size*D.itemsize)\n"
      ],
      "metadata": {
        "colab": {
          "base_uri": "https://localhost:8080/"
        },
        "id": "JPeAl9Grwvi1",
        "outputId": "d19038b5-6a94-49d9-c152-5bb1220c48c1"
      },
      "id": "JPeAl9Grwvi1",
      "execution_count": null,
      "outputs": [
        {
          "output_type": "stream",
          "name": "stdout",
          "text": [
            "size of each element of list in bytes: 48\n",
            "size of the whole list in bytes: 48000\n",
            "size of each element of the numpy array in bytes: 8\n",
            "size of the whole numpy array in bytes: 8000\n"
          ]
        }
      ]
    },
    {
      "cell_type": "code",
      "source": [
        "arr=np.array(42)\n",
        "print(arr)\n"
      ],
      "metadata": {
        "colab": {
          "base_uri": "https://localhost:8080/"
        },
        "id": "2LQ76SCfyrul",
        "outputId": "c3ef96c9-6fbd-4e8a-a6f3-7bf46e3967e2"
      },
      "id": "2LQ76SCfyrul",
      "execution_count": null,
      "outputs": [
        {
          "output_type": "stream",
          "name": "stdout",
          "text": [
            "42\n"
          ]
        }
      ]
    },
    {
      "cell_type": "code",
      "source": [
        "arr=np.array([[1,2,3],[4,5,6]])\n",
        "print (arr)"
      ],
      "metadata": {
        "colab": {
          "base_uri": "https://localhost:8080/"
        },
        "id": "fA-4oF81y1Vc",
        "outputId": "3fe0598a-8550-4d53-a60f-8c94e5d212fc"
      },
      "id": "fA-4oF81y1Vc",
      "execution_count": null,
      "outputs": [
        {
          "output_type": "stream",
          "name": "stdout",
          "text": [
            "[[1 2 3]\n",
            " [4 5 6]]\n"
          ]
        }
      ]
    },
    {
      "cell_type": "code",
      "source": [
        "arr=np.array([[[1,2,3],[4,5,6]],[[1,2,3],[4,5,6]]])\n",
        "print (arr)"
      ],
      "metadata": {
        "colab": {
          "base_uri": "https://localhost:8080/"
        },
        "id": "yzUeN0LQzIdU",
        "outputId": "e1ecd6ee-96a6-4473-b72f-08285aa8f483"
      },
      "id": "yzUeN0LQzIdU",
      "execution_count": null,
      "outputs": [
        {
          "output_type": "stream",
          "name": "stdout",
          "text": [
            "[[[1 2 3]\n",
            "  [4 5 6]]\n",
            "\n",
            " [[1 2 3]\n",
            "  [4 5 6]]]\n"
          ]
        }
      ]
    },
    {
      "cell_type": "code",
      "source": [
        "zeros_arr=np.zeros((5,2))\n",
        "eros_arr=np.zeros(5)\n",
        "print(zeros_arr)\n",
        "zeros_arr=np.zeros((2,3))\n",
        "print(zeros_arr)\n",
        "print(\"data type of the array:\",zeros_arr.dtype)\n",
        "zeros_arr_int=np.zeros((3,3),dtype=np.int16)\n",
        "print(\"\\narray of zeros with integer elements :\\n\",zeros_arr_int)"
      ],
      "metadata": {
        "colab": {
          "base_uri": "https://localhost:8080/"
        },
        "id": "ZBS_xrx4zeWk",
        "outputId": "97e7ceca-78cc-4cef-aed1-8ab7d280d933"
      },
      "id": "ZBS_xrx4zeWk",
      "execution_count": null,
      "outputs": [
        {
          "output_type": "stream",
          "name": "stdout",
          "text": [
            "[[0. 0.]\n",
            " [0. 0.]\n",
            " [0. 0.]\n",
            " [0. 0.]\n",
            " [0. 0.]]\n",
            "[[0. 0. 0.]\n",
            " [0. 0. 0.]]\n",
            "data type of the array: float64\n",
            "\n",
            "array of zeros with integer elements :\n",
            " [[0 0 0]\n",
            " [0 0 0]\n",
            " [0 0 0]]\n"
          ]
        }
      ]
    },
    {
      "cell_type": "code",
      "source": [
        "ones_arr=np.ones(6)\n",
        "print(ones_arr)\n",
        "print(\"\\ndata type of the array:\",ones_arr.dtype)"
      ],
      "metadata": {
        "colab": {
          "base_uri": "https://localhost:8080/"
        },
        "id": "zggxLzVmzfPw",
        "outputId": "d74c1e65-7eec-45be-cbbc-83480cd0a061"
      },
      "id": "zggxLzVmzfPw",
      "execution_count": null,
      "outputs": [
        {
          "output_type": "stream",
          "name": "stdout",
          "text": [
            "[1. 1. 1. 1. 1. 1.]\n",
            "\n",
            "data type of the array: float64\n"
          ]
        }
      ]
    },
    {
      "cell_type": "code",
      "source": [
        "empty_arr=np.empty((3,2))\n",
        "print(empty_arr)\n",
        "print(\"\\ndata type of the array:\",empty_arr.dtype)"
      ],
      "metadata": {
        "colab": {
          "base_uri": "https://localhost:8080/"
        },
        "id": "Y1peNTTd1OUu",
        "outputId": "5cdde942-61c7-4bce-844e-1424bd2e1cd3"
      },
      "id": "Y1peNTTd1OUu",
      "execution_count": null,
      "outputs": [
        {
          "output_type": "stream",
          "name": "stdout",
          "text": [
            "[[1. 1.]\n",
            " [1. 1.]\n",
            " [1. 1.]]\n",
            "\n",
            "data type of the array: float64\n"
          ]
        }
      ]
    },
    {
      "cell_type": "code",
      "source": [
        "identity_matrix=np.eye(3)\n",
        "print(identity_matrix)\n",
        "identity_matrix=np.eye(4)\n",
        "print(\"\\n\",identity_matrix)"
      ],
      "metadata": {
        "colab": {
          "base_uri": "https://localhost:8080/"
        },
        "id": "XZWSJUt01rov",
        "outputId": "3e4aeb13-c0ef-41f0-a81d-a19258168a30"
      },
      "id": "XZWSJUt01rov",
      "execution_count": null,
      "outputs": [
        {
          "output_type": "stream",
          "name": "stdout",
          "text": [
            "[[1. 0. 0.]\n",
            " [0. 1. 0.]\n",
            " [0. 0. 1.]]\n",
            "\n",
            " [[1. 0. 0. 0.]\n",
            " [0. 1. 0. 0.]\n",
            " [0. 0. 1. 0.]\n",
            " [0. 0. 0. 1.]]\n"
          ]
        }
      ]
    },
    {
      "cell_type": "code",
      "source": [
        "arr1=np.array([1,2,3],dtype=np.float64)\n",
        "arr2=np.array([1,2,3],dtype=np.int32)\n",
        "print(arr1.dtype)\n",
        "print(arr2.dtype)"
      ],
      "metadata": {
        "colab": {
          "base_uri": "https://localhost:8080/"
        },
        "id": "IIkNzynl2Fbx",
        "outputId": "8086de7f-ef7c-41a1-a2bf-0e47588086b1"
      },
      "id": "IIkNzynl2Fbx",
      "execution_count": null,
      "outputs": [
        {
          "output_type": "stream",
          "name": "stdout",
          "text": [
            "float64\n",
            "int32\n"
          ]
        }
      ]
    },
    {
      "cell_type": "code",
      "source": [
        "arr=np.array([1,2,3])\n",
        "print(\"before converting:\",arr,arr.dtype)\n",
        "new_arr=arr.astype(\"f\")\n",
        "print(\"after converting:\", new_arr,new_arr.dtype)"
      ],
      "metadata": {
        "colab": {
          "base_uri": "https://localhost:8080/"
        },
        "id": "Sx7OPm-N3Neg",
        "outputId": "dc7e557a-ab72-4d62-f750-f0d40983ee04"
      },
      "id": "Sx7OPm-N3Neg",
      "execution_count": null,
      "outputs": [
        {
          "output_type": "stream",
          "name": "stdout",
          "text": [
            "before converting: [1 2 3] int64\n",
            "after converting: [1. 2. 3.] float32\n"
          ]
        }
      ]
    },
    {
      "cell_type": "code",
      "source": [
        "arr1=np.arange(10)\n",
        "arr2=np.random.randn(10)\n",
        "print(\"array 1\\n\",arr1, arr1.dtype)\n",
        "print(\"array2\\n\",arr2,arr2.dtype)\n",
        "print(\"new array\\n\", new_arr,new_arr.dtype)"
      ],
      "metadata": {
        "colab": {
          "base_uri": "https://localhost:8080/"
        },
        "id": "w8rpidJ139HB",
        "outputId": "e1ebb641-9131-4b83-f392-e4bd5a8ffcf8"
      },
      "id": "w8rpidJ139HB",
      "execution_count": null,
      "outputs": [
        {
          "output_type": "stream",
          "name": "stdout",
          "text": [
            "array 1\n",
            " [0 1 2 3 4 5 6 7 8 9] int64\n",
            "array2\n",
            " [-0.5882432   0.58826148 -0.88837066 -1.11555435  0.57673078 -0.33259999\n",
            " -0.82075516  0.64694969 -0.54432894  0.31916361] float64\n",
            "new array\n",
            " [1. 2. 3.] float32\n"
          ]
        }
      ]
    },
    {
      "cell_type": "code",
      "source": [
        "str_arr=np.array([\"hello\",\"world\",\"numpy\"])\n",
        "print(str_arr)"
      ],
      "metadata": {
        "colab": {
          "base_uri": "https://localhost:8080/"
        },
        "id": "DAPsi4Rx4yni",
        "outputId": "17658b49-adf2-49c3-bde8-576518c1a382"
      },
      "id": "DAPsi4Rx4yni",
      "execution_count": null,
      "outputs": [
        {
          "output_type": "stream",
          "name": "stdout",
          "text": [
            "['hello' 'world' 'numpy']\n"
          ]
        }
      ]
    },
    {
      "cell_type": "code",
      "source": [
        "a=np.array([1.,2.,3.,4.])\n",
        "b=np.array([5.,6.,7.,8.])\n",
        "print(a+b)#[6 8 10 12]\n",
        "print(a-b)#[-4 -4 -4 -4]\n",
        "print(a*b)#[5 12 21 32]\n",
        "print(a/b)#[0.2  0.33333333  0.42857143  0.5 ]\n",
        "print(a**b)#[ 1  64  2187  65536]"
      ],
      "metadata": {
        "colab": {
          "base_uri": "https://localhost:8080/"
        },
        "id": "OZWxGXR_5OQe",
        "outputId": "834b1e85-37f9-4c43-e62e-4651718e28fa"
      },
      "id": "OZWxGXR_5OQe",
      "execution_count": null,
      "outputs": [
        {
          "output_type": "stream",
          "name": "stdout",
          "text": [
            "[ 6.  8. 10. 12.]\n",
            "[-4. -4. -4. -4.]\n",
            "[ 5. 12. 21. 32.]\n",
            "[0.2        0.33333333 0.42857143 0.5       ]\n",
            "[1.0000e+00 6.4000e+01 2.1870e+03 6.5536e+04]\n"
          ]
        }
      ]
    },
    {
      "cell_type": "code",
      "source": [
        "import numpy as np\n",
        "arr=np.arange(12)\n",
        "newarr=arr.reshape(4,3)\n",
        "print(newarr)\n",
        "newarr=arr.reshape((4,3),order=\"F\")\n",
        "print(\"\\n\",newarr)"
      ],
      "metadata": {
        "colab": {
          "base_uri": "https://localhost:8080/"
        },
        "id": "gBiBOSus6e1k",
        "outputId": "89230ccb-73f5-4b5e-87ae-bb1a531c1592"
      },
      "id": "gBiBOSus6e1k",
      "execution_count": null,
      "outputs": [
        {
          "output_type": "stream",
          "name": "stdout",
          "text": [
            "[[ 0  1  2]\n",
            " [ 3  4  5]\n",
            " [ 6  7  8]\n",
            " [ 9 10 11]]\n",
            "\n",
            " [[ 0  4  8]\n",
            " [ 1  5  9]\n",
            " [ 2  6 10]\n",
            " [ 3  7 11]]\n"
          ]
        }
      ]
    },
    {
      "cell_type": "code",
      "source": [
        "import numpy as np\n",
        "arr=np.array([[1,2,3,4,8,10],[5,6,7,8,11,12]])\n",
        "print(arr)\n",
        "newarr=arr.reshape(3,2,2)\n",
        "print(\"\\n\",newarr)\n",
        "newarr1=newarr.reshape(3,-1)\n",
        "print(\"\\n reshape(3,-1)\\n\",newarr1)\n"
      ],
      "metadata": {
        "colab": {
          "base_uri": "https://localhost:8080/"
        },
        "id": "PT4eFxU97Jxf",
        "outputId": "a6c21743-4ee9-4f13-fed5-58ce6fed28fe"
      },
      "id": "PT4eFxU97Jxf",
      "execution_count": null,
      "outputs": [
        {
          "output_type": "stream",
          "name": "stdout",
          "text": [
            "[[ 1  2  3  4  8 10]\n",
            " [ 5  6  7  8 11 12]]\n",
            "\n",
            " [[[ 1  2]\n",
            "  [ 3  4]]\n",
            "\n",
            " [[ 8 10]\n",
            "  [ 5  6]]\n",
            "\n",
            " [[ 7  8]\n",
            "  [11 12]]]\n",
            "\n",
            " reshape(3,-1)\n",
            " [[ 1  2  3  4]\n",
            " [ 8 10  5  6]\n",
            " [ 7  8 11 12]]\n"
          ]
        }
      ]
    },
    {
      "cell_type": "code",
      "source": [
        "import numpy as np\n",
        "\n",
        "original_array = np.array([[10, 20], [30, 40]])\n",
        "print(\"Original array:\\n\", original_array)\n",
        "\n",
        "flattened_array = original_array.flatten()\n",
        "flattened_array[0] = 999\n",
        "print(\"Flattened array:\\n\", flattened_array)\n",
        "print(\"Original array:\\n\", original_array)\n",
        "\n",
        "raveled_array = original_array.ravel()\n",
        "raveled_array[1] = 888\n",
        "\n",
        "print(\"Raveled array:\\n\", raveled_array)\n",
        "print(\"Original array:\\n\", original_array)"
      ],
      "metadata": {
        "id": "VBYMJL8FU4px",
        "colab": {
          "base_uri": "https://localhost:8080/"
        },
        "outputId": "687a63cc-832a-4538-8223-8cb63e496d00"
      },
      "id": "VBYMJL8FU4px",
      "execution_count": null,
      "outputs": [
        {
          "output_type": "stream",
          "name": "stdout",
          "text": [
            "Original array:\n",
            " [[10 20]\n",
            " [30 40]]\n",
            "Flattened array:\n",
            " [999  20  30  40]\n",
            "Original array:\n",
            " [[10 20]\n",
            " [30 40]]\n",
            "Raveled array:\n",
            " [ 10 888  30  40]\n",
            "Original array:\n",
            " [[ 10 888]\n",
            " [ 30  40]]\n"
          ]
        }
      ]
    },
    {
      "cell_type": "code",
      "source": [
        "import numpy as np\n",
        "\n",
        "arr1 = np.array([[1, 2], [3, 4]])\n",
        "arr2 = np.array([[2, 1], [3, 5]])\n",
        "\n",
        "greater_than = arr1 > arr2\n",
        "less_than = arr1 < arr2\n",
        "equal_to = arr1 == arr2\n",
        "\n",
        "print(\"Greater than:\\n\", greater_than)\n",
        "print(\"\\nLess than:\\n\", less_than)\n",
        "print(\"\\nEqual to:\\n\", equal_to)\n",
        "\n",
        "arr3 = np.array([1, 2, 3])\n",
        "arr4 = np.array([1, 2, 3])\n",
        "arr5 = np.array([1, 2, 4])\n",
        "\n",
        "result1 = np.array_equal(arr3, arr4)\n",
        "result2 = np.array_equal(arr3, arr5)\n",
        "\n",
        "print(\"\\nArray-wise comparison 1:\", result1)\n",
        "print(\"Array-wise comparison 2:\", result2)"
      ],
      "metadata": {
        "colab": {
          "base_uri": "https://localhost:8080/"
        },
        "id": "JwD67JYE8b4i",
        "outputId": "00901820-aab8-48b1-ce09-7102bc46d5a1"
      },
      "id": "JwD67JYE8b4i",
      "execution_count": null,
      "outputs": [
        {
          "output_type": "stream",
          "name": "stdout",
          "text": [
            "Greater than:\n",
            " [[False  True]\n",
            " [False False]]\n",
            "\n",
            "Less than:\n",
            " [[ True False]\n",
            " [False  True]]\n",
            "\n",
            "Equal to:\n",
            " [[False False]\n",
            " [ True False]]\n",
            "\n",
            "Array-wise comparison 1: True\n",
            "Array-wise comparison 2: False\n"
          ]
        }
      ]
    },
    {
      "cell_type": "code",
      "source": [
        "import sys\n",
        "S = range(1000)\n",
        "print(\"Size of each element of list in bytes:\" ,sys.getsizeof(S))\n",
        "print(\"Size of each element of list in bytes:\",sys.getsizeof(S)*len(S))\n",
        "D=np.arange(1000)\n",
        "print(\"Size of each element of the numpy array in bytes:\",D.itemsize)\n",
        "print(\"Size of the whole Numpy array in bytes:\",D.size*D.itemsize)"
      ],
      "metadata": {
        "colab": {
          "base_uri": "https://localhost:8080/"
        },
        "id": "FwE0oWVJ9ITP",
        "outputId": "deef9341-97ec-4dee-8d32-80592a8bd303"
      },
      "id": "FwE0oWVJ9ITP",
      "execution_count": null,
      "outputs": [
        {
          "output_type": "stream",
          "name": "stdout",
          "text": [
            "Size of each element of list in bytes: 48\n",
            "Size of each element of list in bytes: 48000\n",
            "Size of each element of the numpy array in bytes: 8\n",
            "Size of the whole Numpy array in bytes: 8000\n"
          ]
        }
      ]
    },
    {
      "cell_type": "code",
      "source": [
        "import numpy as np\n",
        "\n",
        "x = np.arange(10)\n",
        "print(\"x=\",x)\n",
        "\n",
        "print(\"\\n x[:5] = \",x[:5])\n",
        "print(\"\\n x[5:] = \",x[5:])\n",
        "print(\"\\n x[4:7] = \",x[4:7])\n",
        "print(\"\\n x[::2] = \",x[::2])\n",
        "print(\"\\n x[1::2] = \",x[1::2])\n",
        "print(\"\\n x[::-1] = \",x[::-1])\n",
        "print(\"\\n x[5::-2] = \",x[5::-2])"
      ],
      "metadata": {
        "colab": {
          "base_uri": "https://localhost:8080/"
        },
        "id": "nEHN7nI29I9c",
        "outputId": "930eeacf-766b-4170-a3bb-da843e2f8fbe"
      },
      "id": "nEHN7nI29I9c",
      "execution_count": null,
      "outputs": [
        {
          "output_type": "stream",
          "name": "stdout",
          "text": [
            "x= [0 1 2 3 4 5 6 7 8 9]\n",
            "\n",
            " x[:5] =  [0 1 2 3 4]\n",
            "\n",
            " x[5:] =  [5 6 7 8 9]\n",
            "\n",
            " x[4:7] =  [4 5 6]\n",
            "\n",
            " x[::2] =  [0 2 4 6 8]\n",
            "\n",
            " x[1::2] =  [1 3 5 7 9]\n",
            "\n",
            " x[::-1] =  [9 8 7 6 5 4 3 2 1 0]\n",
            "\n",
            " x[5::-2] =  [5 3 1]\n"
          ]
        }
      ]
    }
  ],
  "metadata": {
    "kernelspec": {
      "display_name": "Python 3 (ipykernel)",
      "language": "python",
      "name": "python3"
    },
    "language_info": {
      "codemirror_mode": {
        "name": "ipython",
        "version": 3
      },
      "file_extension": ".py",
      "mimetype": "text/x-python",
      "name": "python",
      "nbconvert_exporter": "python",
      "pygments_lexer": "ipython3",
      "version": "3.9.21"
    },
    "colab": {
      "provenance": [],
      "include_colab_link": true
    }
  },
  "nbformat": 4,
  "nbformat_minor": 5
}